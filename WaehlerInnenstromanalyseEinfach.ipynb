{
 "cells": [
  {
   "cell_type": "markdown",
   "metadata": {
    "collapsed": true
   },
   "source": [
    "# Wie funktionieren WählerInnenstromanalysen?\n"
   ]
  },
  {
   "cell_type": "markdown",
   "metadata": {},
   "source": [
    "Seit gestern ist es offiziell, Österreichs neuer Bundespräsident heißt Alexander Van der Bellen. Ein Wahlsieg der nach dem großen Vorsprung für Norbert Hofer im ersten Wahldurchgang von vielen nicht mehr für möglich gehalten wurde. Bereits Sonntagabend veröffentlichte das SORA Institut für Markt- und Wahlforschung die folgenden Daten welche beschreiben wie sich die Stimmen von Kandidaten des ersten Wahlgangs auf die des zweiten aufteilen:\n",
    "<img src='./votingTrend/stroeme.png'>\n",
    "(Grafik derStandard/SORA/ORF)"
   ]
  },
  {
   "cell_type": "markdown",
   "metadata": {},
   "source": [
    "Natürlich stellt sich sofort die Frage wie ist denn so etwas in dieser Genauigkeit überhaupt möglich? Durch das Wahlgeheimnis kann man doch unmöglich direkt auf diese sogenannten WählerInnenströme schließen? Oder etwa doch? Um es in Armin Wolfs Worten auszudrücken \"Ist das eigentlich mehr als Kaffeesud zu lesen?\". \n",
    "\n",
    "### Eine kurze Anmerkung zu diesem Artikel: \n",
    "Ich nehme dem folgenden Text gleich vorab ich bin weder Student der Politikwissenschaften, Soziologie oder Statistik. Ich studiere Informatik und fasziniere mich seit Jahren für die Statistik. Nach all den Beiträgen auf Facebook über gefälschte Wahlkarten und schlechte Meinungsforschung wollte ich dieser Frage genauer auf den Zahn fühlen. Mein Ziel ist es allgemein verständlich zu erklären wie es möglich ist solche Zahlen zu berechnen. Das hier ist aber kein mathematisches Tutorial für Multiple Regression - meine Wortwahl ist beabsichtigt einfach und daher oft mathematisch nicht korrekt. Darum geht es hier aber auch nicht. Für Interessierte findet sich am Ende des Artikels ein paar Zeilen R-Code mit dem ich meine eigene (vereinfachte) Analyse mit den Ergebnissen der Bundespräsidentenwahl durchführe. Für Hinweise, Fehler, Feedback oder Wünsche bitte schreibt mir  an bernhard2202[at]gmail[dot]com."
   ]
  },
  {
   "cell_type": "markdown",
   "metadata": {},
   "source": [
    "# Ein statistisches Modell\n",
    "Beginnen wir mit einem blick nach Altmünster, der Trendgemeinde des ersten Durchgangs. Die 7777 Wahlberechtigten Personen der oberösterreichischen Gemeinde stimmten am nächsten am gesamtösterreichischen Ergebnis wie in der folgenden Grafik zu sehen ist.\n",
    "\n",
    "<img src='./votingTrend/altmuenster.png'>\n",
    "(Quelle: BMI) \n",
    "\n",
    "\n",
    "Unser erstes Ziel ist es die Zahlen des ersten Wahlgangs mit denen des zweiten in Verbindung zu bringen. Dazu entwickeln wir ein so genanntes statistisches Modell. Ein statistisches Modell ist sehr einfach ausgedrückt eine Sammlung von mathematischen Gleichungen mit denen wir versuchen Vorgänge der realen Welt detailgetreu abzubilden. Dazu unterteilen wir die 7777 Wahlberechtigten Personen in Altmünster in sieben Kategorien. Eine für jeden der Kandidaten des ersten Durchgangs (HOF-DG1=1640, VDB-DG1=1045, GRI-DG1=877, HUN-DG1=526, KOH-DG1=543, LUG-DG1=88) sowie eine Kategorie für ungültig- und nichtwählende Personen (NICHT-DG1=3058). Im zweiten Wahlgang teilen sich dieselben 7777 Personen in drei Kategorien VDB-DG2=2424, HOF-DG2=2225, NICHT-DG2=3128. Diese Kategorien entsprechen auch denen in der eingangs gezeigten Grafik jeweils links und rechts. \n",
    "\n",
    "Im Folgenden werden wir annehmen, dass es sich bei beiden Wahlgängen um ein und dieselben 7777 Personen handelt. Dementsprechend hat jede dieser 7777 Personen im ersten Wahlgang genau einer einzigen der sieben Kategorie angehört. Jede einzelne Person entscheidet sich weiter auch im zweiten Wahldurchgang für genau eine einzige der drei verbleibenden Kategorien.  Betrachten wir nur eine einzelne Kategorie – beispielsweise Griss WählerInnen im ersten Durchgang – so entscheidet sich ein gewisser Prozentsatz dieser Kategorie in der zweiten Wahl für die Kategorie VdB, ein anderer Prozentsatz für Hofer und der Rest zum nicht- oder ungültig wählen. Dasselbe gilt für jede der Kategorien aus dem ersten Wahlgang. Stimmen der Stichwahlkandidaten setzten sich also aus den jeweiligen Anteilen der sieben Kategorien von Wahlgang eins zusammen. \n",
    "\n",
    "### Wie können wir das in einer Formel beschreiben?\n",
    "\n",
    "\n",
    "$\\text{VDB-DG2} = v_1*\\text{VDB-DG1} + v_2*\\text{HOF-DG1} + v_3*\\text{GRI-DG1} + v_4*\\text{HUN-DG1}+ v_5*\\text{KOH-DG1} + v_6*\\text{LUG-DG1} + v_7*\\text{NICHT-DG1}$\n",
    "\n",
    "Nochmal auf deutsch bitte? Die auf den ersten Blick etwas kompliziert aussehende Formel sagt nichts anders als - Die Stimmen von Alexander Van der Bellen aus dem zweiten Wahldurchgang in Altmünster setzen sich wie folgt zusammen: \n",
    "$v_1$ Prozent der Stimmen von Van der Bellen im ersten Wahlgang plus $v_2$ Prozent der Stimmen von Norbert Hofer im ersten Wahlgang plus $v_3$ Prozent der Stimmen von Irmgard Griss im ersten Wahlgang + ... + $v_7$ Prozent der ungültigen oder nicht abgegebenen Stimmen im ersten Wahlgang. In diesem Modell sind alle Variablen gegeben, bis auf die unbekannten Parameter $v_1$ bis $v_7$. \n",
    "\n",
    "Es existiert ein „wahrer“ Wert für die Parameter $v_1$ bis $v_7$ der das Wahlverhalten Altmünsters exakt beschreiben würde - den wir aber aufgrund des Wahlgeheimnisses niemals erfahren werden. Würden wir von jeder Person in Altmünster also wissen was Sie im ersten und zweiten Wahlgang gewählt hat könnten wir die Werte exakt berechnen. Durch die geheime Wahl bleiben die wahren Werte für $v_1$ bis $v_7$ aber unbekannt. Aber halt? Ich sagte doch eingangs es ist möglich diese WählerInnenströme genau zu berechnen?\n",
    "\n",
    "Der wahre Wert lässt sich nicht ermitteln - das haltet Statistiker allerdings nicht davon ab diese zu \"schätzen\". Der Begriff schätzen kommt aus dem Englischen von \"to estimate\" und ist deshalb etwas irreführend. Das statistische Schätzen hat nichts damit zu tun - zu schätzen wieviel Münzen sich in einem Glas befinden, sondern mit dem rekonstruieren von unbekannten Parametern. Diese Schätzwerte sind im Vergleich zu den Münzen im Glas sehr genau und können mit sogenannten Vertrauensbereichen versehen werden. Beispielsweise könnte eine Aussage lauten: „Mit einer Wahrscheinlichkeit von 95% haben zwischen 65 und 70% der Griss-WählerInnen im zweiten Durchgang Alexander Van der Bellen gewählt“. Bevor ich aber auf die Qualität der Schätzwerte zu sprechen komme müssen wir diese überhaupt erst einmal finden. Um diese Werte aber zuverlässig schätzen zu können brauchen wir vor allem eines - mehr Daten.\n",
    "\n",
    "Dazu begeben wir uns wieder zurück aus dem schönen Altmünster und blicken auf ganz Österreich. In Österreich gibt es rund 15000 verschiedene Wahlsprengel. Das sind sozusagen die kleinsten geografischen Einheiten für die Ergebnisse veröffentlicht werden. Wir können also die oben beschriebene Gleichung nicht nur einmal aufstellen, sondern gleich 15000-mal. Natürlich ist es dann auch keine exakte Gleichung mehr denn es wäre unmöglich mit die 7 unbekannten Parameter $v_1$ bis $v_7$ so zu wählen, dass jede der 15000 Gleichungen exakt erfüllt ist. (In der Statistik verwendet man deshalb noch eine Fehlervariable \"error term\" im Gleichungssystem - aber das hier ist ja wie gesagt kein Tutorial für Multiple Regression). \n",
    "\n",
    "Wir haben also 15000 Gleichungen und 7 unbekannte (korrekt handelt es sich um Parameter nicht um unbekannte im algebraischen Sinn). Diese Parameter wollen wir so schätzen, dass alle Gleichungen „so gut wie möglich“ erfüllt sind. Die Werte der rechten Seite der Gleichung sollen also die wahre Anzahl der Stimmen so gut wie möglich beschreiben. Eine weit verbreitete Methode schätzt $v_1$ bis $v_7$ so, dass der quadratische Abstand zwischen den beiden Seiten im Mittel minimiert wird. Im Idealfall sind $v_1$ bis $v_7$ dann Zahlen zwischen 0 und 1 die (mit 100 multipliziert) die Prozente der WählerInnen aller 7 Kategorien ergeben die im zweiten Wahlgang VdB gewählt haben. Diese Methode erkennt Muster wie „Wenn Partei A im Durchgang eins überall dort stark war wo Partei B im zweiten Durchgang Stark ist - sind mit hoher Wahrscheinlichkeit viele WählerInnen von A zu B gewechselt.“ \n",
    "\n",
    "## Aber wie genau ist so eine Schätzung?\n",
    "Vor allem bei Nationalratswahlen ist eine solche Schätzung schwer. Unser Modell basiert auf der Grundannahme das die Wahlberechtigten Personen zwischen den Wahldurchgängen ein und dieselben bleiben. Es liegt allerdings auf der Hand: in einer Stadt wie Wien - ja nicht einmal in einem kleinen Ort wie Altmünster werden 2018 ein und dieselben Personen Wahlberechtigt sein als noch 2013. Im Falle der Bundespräsidentenwahl ist diese Annahme allerdings - bis auf sehr wenige Ausnahmen - korrekt. Die beiden Wahldurchgänge liegen nur drei Wochen auseinander was die Qualität des Ergebnisses verbessert. Durch die große Menge an Daten: 15000 Gleichungen für nur 7 Parameter können wir in diesem Fall die WählerInnenströme für gesamt Österreich mit sehr hoher Genauigkeit ermittelt werden. Die Modelle von SORA sind natürlich komplexer (Annahme) und nehmen beispielsweise auf demographische Veränderung des Wahlkörpers Rücksicht. Man beachte, dass dieses Verfahren im Vergleich zu Qualitativen Umfragen auch auf NichtwählerInnen anwendbar ist!\n",
    "Für den Interessierten Leser kann ich den Folgenden Artikel empfehlen: http://www.ssoar.info/ssoar/bitstream/handle/document/5993/ssoar-oezp-2002-h_2-hofinger_et_al-orakel_der_neuzeit.pdf?sequence=1\n",
    "\n",
    "## Wo ist Vorsicht geboten?\n",
    "Das beschriebene Verfahren sagt nichts über die Motive der WählerInnenströme aus dazu wären qualitative Befragungen notwendig. Generell gilt eine Faustregel: je länger Wahlen auseinanderliegen und je weniger Detail Ergebnisse Vorliegen desto vorsichtiger sollte man WählerInnenströme Interpretieren und desto komplexer Modelle werden benötigt. Je kleiner die Parteien desto größer ist der Fehler in der Analyse (beispielsweise für Herrn Lugner).\n",
    "\n",
    "# Lets try it out! (sehr vereinfacht - in R)\n",
    "Im Folgenden versuche ich die WählerInnenströme für VdB anhand einiger Wahlergebnisse zu berechnen. \n",
    "(Daten: BMI)"
   ]
  },
  {
   "cell_type": "code",
   "execution_count": 2,
   "metadata": {
    "collapsed": false
   },
   "outputs": [
    {
     "data": {
      "text/html": [
       "<dl class=dl-horizontal>\n",
       "\t<dt>hof1</dt>\n",
       "\t\t<dd>-0.16243031857912</dd>\n",
       "\t<dt>vdb1</dt>\n",
       "\t\t<dd>1.28751104248307</dd>\n",
       "\t<dt>gri1</dt>\n",
       "\t\t<dd>0.406345102612672</dd>\n",
       "\t<dt>hun1</dt>\n",
       "\t\t<dd>0.693701727462037</dd>\n",
       "\t<dt>koh1</dt>\n",
       "\t\t<dd>0.46389283232575</dd>\n",
       "\t<dt>lug1</dt>\n",
       "\t\t<dd>0.177976000433387</dd>\n",
       "\t<dt>not1</dt>\n",
       "\t\t<dd>0.101345064772506</dd>\n",
       "</dl>\n"
      ],
      "text/latex": [
       "\\begin{description*}\n",
       "\\item[hof1] -0.16243031857912\n",
       "\\item[vdb1] 1.28751104248307\n",
       "\\item[gri1] 0.406345102612672\n",
       "\\item[hun1] 0.693701727462037\n",
       "\\item[koh1] 0.46389283232575\n",
       "\\item[lug1] 0.177976000433387\n",
       "\\item[not1] 0.101345064772506\n",
       "\\end{description*}\n"
      ],
      "text/markdown": [
       "hof1\n",
       ":   -0.16243031857912vdb1\n",
       ":   1.28751104248307gri1\n",
       ":   0.406345102612672hun1\n",
       ":   0.693701727462037koh1\n",
       ":   0.46389283232575lug1\n",
       ":   0.177976000433387not1\n",
       ":   0.101345064772506\n",
       "\n"
      ],
      "text/plain": [
       "      hof1       vdb1       gri1       hun1       koh1       lug1       not1 \n",
       "-0.1624303  1.2875110  0.4063451  0.6937017  0.4638928  0.1779760  0.1013451 "
      ]
     },
     "execution_count": 2,
     "metadata": {},
     "output_type": "execute_result"
    }
   ],
   "source": [
    "firstTurn = read.csv(\"./votingTrend/turn-1.csv\", header=FALSE, sep=',', dec='.')\n",
    "secondTurn = read.csv(\"./votingTrend/turn-2.csv\", header=FALSE, sep=',', dec='.')\n",
    "vdb2 = secondTurn[,4] \n",
    "hof1 = firstTurn[,3] \n",
    "vdb1 = firstTurn[,4] \n",
    "gri1 = firstTurn[,5] \n",
    "hun1 = firstTurn[,6] \n",
    "koh1 = firstTurn[,7]\n",
    "lug1 = firstTurn[,8] \n",
    "not1 = firstTurn[,2] - hof1 - vdb1 - gri1 - hun1 - koh1 - lug1\n",
    "not1 = not1 \n",
    "fit <- lm(vdb2 ~ hof1 + vdb1 + gri1 + hun1 + koh1 + lug1 + not1 - 1 )\n",
    "coefficients(fit)"
   ]
  },
  {
   "cell_type": "markdown",
   "metadata": {},
   "source": [
    "### Interpretation\n",
    "Was als erste auffällt die Ergebnisse von Hofer und VdB sind schwer zu interpretieren auch wenn sie die richtige Tendenz anzeigen (128% der VdB WählerInnen in Wahlgang 1 müssten im zweiten für VdB gestimmt haben und -16% der Hofer WählerInnen ebenso). Der unten angefügte Artikel beschreibt wie mit solchen Ergebnissen umzugehen ist und wie man sie verstehen kann. 70% der Hundsdorfer WählerInnen und 46% der Khol Wählerinnen die im zweiten Wahlgang VdB wählten kommt sehr gut an das Ergebnis von SORA heran. Nur die 40% für Irmgard Griss liegen weit abseits. \n",
    "\n",
    "Warum? \n",
    "- In meinen Daten finden sich nicht Detail Ergebnisse von 15000 Sprengel sondern kumulierte Ergebnisse von 1909 Wahlkreisen. \n",
    "- Die Daten enthalten weder Briefwahlstimmen noch Briefwahlprognosen\n",
    "- Das Modell ist zu einfach und nimmt keine Rücksicht auf Stadt/Land dynamiken etc.  \n",
    "\n",
    "Wie kann man das Ergebnis Verbessern? Dazu empfehle ich den Artikel:  http://www.ssoar.info/ssoar/bitstream/handle/document/5993/ssoar-oezp-2002-h_2-hofinger_et_al-orakel_der_neuzeit.pdf?sequence=1\n",
    "\n",
    "# Acknowledgements\n",
    "Links:\n",
    "- http://www.ssoar.info/ssoar/bitstream/handle/document/5993/ssoar-oezp-2002-h_2-hofinger_et_al-orakel_der_neuzeit.pdf?sequence=1\n",
    "- http://www.sora.at/themen/wahlverhalten/wahlanalysen/waehlerstromanalysen.html\n",
    "- http://derstandard.at/2000035850803/Wie-Waehlerstromanalysen-funktionieren?_blogGroup=1\n",
    "\n",
    "Tutorial written by Bernhard Kratzwald. \n",
    "Feedback, questions, comments, wishes, complaints: bernhard2202 [at] gmail [dot] com"
   ]
  }
 ],
 "metadata": {
  "kernelspec": {
   "display_name": "R",
   "language": "R",
   "name": "ir"
  },
  "language_info": {
   "codemirror_mode": "r",
   "file_extension": ".r",
   "mimetype": "text/x-r-source",
   "name": "R",
   "pygments_lexer": "r",
   "version": "3.2.2"
  }
 },
 "nbformat": 4,
 "nbformat_minor": 0
}
